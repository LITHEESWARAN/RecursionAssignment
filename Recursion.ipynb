{
 "cells": [
  {
   "cell_type": "markdown",
   "id": "d6342204",
   "metadata": {},
   "source": [
    "1.Recursion Logic:\n",
    "The Tower of Hanoi problem is solved using recursion by breaking down the problem into smaller subproblems. Here's how the recursion works:\n",
    "\n",
    "Base Case: If there is only one disk, simply move it from the source rod to the destination rod.\n",
    "Recursive Case:\n",
    "Move the top n-1 disks from the source rod to the auxiliary rod, using the destination rod as a temporary holding area.\n",
    "Move the nth (largest) disk from the source rod to the destination rod.\n",
    "Finally, move the n-1 disks from the auxiliary rod to the destination rod, using the source rod as a temporary holding area.\n",
    "\n",
    "public class TowerOfHanoi {\n",
    "    \n",
    "    public static void main(String[] args) {\n",
    "        int n = 3; // Number of disks\n",
    "        towerOfHanoi(n, 'A', 'C', 'B'); // A, B and C are names of rods\n",
    "    }\n",
    "\n",
    "    // Recursive function to solve Tower of Hanoi puzzle\n",
    "    static void towerOfHanoi(int n, char fromRod, char toRod, char auxRod) {\n",
    "        if (n == 1) {\n",
    "            System.out.println(\"Move disk 1 from rod \" + fromRod + \" to rod \" + toRod);\n",
    "            return;\n",
    "        }\n",
    "        towerOfHanoi(n - 1, fromRod, auxRod, toRod);\n",
    "        System.out.println(\"Move disk \" + n + \" from rod \" + fromRod + \" to rod \" + toRod);\n",
    "        towerOfHanoi(n - 1, auxRod, toRod, fromRod);\n",
    "    }\n",
    "}\n",
    "\n",
    "How the Movements are Accomplished:\n",
    "Step 1: Move disk 1 from rod A to rod C.\n",
    "Step 2: Move disk 2 from rod A to rod B.\n",
    "Step 3: Move disk 1 from rod C to rod B.\n",
    "Step 4: Move disk 3 from rod A to rod C.\n",
    "Step 5: Move disk 1 from rod B to rod A.\n",
    "Step 6: Move disk 2 from rod B to rod C.\n",
    "Step 7: Move disk 1 from rod A to rod C."
   ]
  },
  {
   "cell_type": "code",
   "execution_count": 1,
   "id": "eac6284a",
   "metadata": {},
   "outputs": [
    {
     "name": "stdout",
     "output_type": "stream",
     "text": [
      "3\n",
      "5\n"
     ]
    }
   ],
   "source": [
    "# 2 Given two strings word1 and word2, return the minimum number of operations required to convert word1\n",
    "# to word2.\n",
    "def minDistance(word1, word2):\n",
    "    m = len(word1)\n",
    "    n = len(word2)\n",
    "    \n",
    "    # Create a 2D DP array with (m+1) x (n+1) size\n",
    "    dp = [[0] * (n + 1) for _ in range(m + 1)]\n",
    "    \n",
    "    # Initialize the dp array\n",
    "    for i in range(m + 1):\n",
    "        dp[i][0] = i  # Deleting all characters from word1\n",
    "    for j in range(n + 1):\n",
    "        dp[0][j] = j  # Inserting all characters of word2\n",
    "    \n",
    "    # Fill the dp array\n",
    "    for i in range(1, m + 1):\n",
    "        for j in range(1, n + 1):\n",
    "            if word1[i - 1] == word2[j - 1]:\n",
    "                dp[i][j] = dp[i - 1][j - 1]\n",
    "            else:\n",
    "                dp[i][j] = 1 + min(dp[i - 1][j],    # Deletion\n",
    "                                   dp[i][j - 1],    # Insertion\n",
    "                                   dp[i - 1][j - 1]) # Replacement\n",
    "    \n",
    "    return dp[m][n]\n",
    "\n",
    "# Example usage:\n",
    "word1 = \"horse\"\n",
    "word2 = \"ros\"\n",
    "print(minDistance(word1, word2))  \n",
    "\n",
    "word1 = \"intention\"\n",
    "word2 = \"execution\"\n",
    "print(minDistance(word1, word2)) \n"
   ]
  },
  {
   "cell_type": "code",
   "execution_count": 3,
   "id": "d80393f6",
   "metadata": {},
   "outputs": [
    {
     "name": "stdout",
     "output_type": "stream",
     "text": [
      "The maximum value in the array is: 22\n"
     ]
    }
   ],
   "source": [
    "#3 Print the max value of the array [13, 1, -3, 22, 5]\n",
    "def find_max(arr, n):\n",
    "    # Base case: If there's only one element, return it\n",
    "    if n == 1:\n",
    "        return arr[0]\n",
    "    # Recursively find the maximum in the remaining array\n",
    "    return max(arr[n-1], find_max(arr, n-1))\n",
    "\n",
    "# Example usage:\n",
    "arr = [13, 1, -3, 22, 5]\n",
    "max_value = find_max(arr, len(arr))\n",
    "print(\"The maximum value in the array is:\", max_value)\n",
    "\n"
   ]
  },
  {
   "cell_type": "code",
   "execution_count": 4,
   "id": "bd8ae95c",
   "metadata": {},
   "outputs": [
    {
     "name": "stdout",
     "output_type": "stream",
     "text": [
      "The sum of the values in the array is: 120\n"
     ]
    }
   ],
   "source": [
    "#4 Find the sum of the values of the array [92, 23, 15, -20, 10]\n",
    "def find_sum(arr, n):\n",
    "    # Base case: If the array is empty, return 0\n",
    "    if n == 0:\n",
    "        return 0\n",
    "    # Recursively add the last element to the sum of the remaining array\n",
    "    return arr[n-1] + find_sum(arr, n-1)\n",
    "\n",
    "# Example usage:\n",
    "arr = [92, 23, 15, -20, 10]\n",
    "total_sum = find_sum(arr, len(arr))\n",
    "print(\"The sum of the values in the array is:\", total_sum)\n",
    "\n"
   ]
  },
  {
   "cell_type": "code",
   "execution_count": 5,
   "id": "0f876cec",
   "metadata": {},
   "outputs": [
    {
     "name": "stdout",
     "output_type": "stream",
     "text": [
      "Yes\n",
      "No\n"
     ]
    }
   ],
   "source": [
    "#5 Given a number n, print if it is an Armstrong number or not using recursion\n",
    "def count_digits(n):\n",
    "    # Base case: If the number is 0, no digits left to count\n",
    "    if n == 0:\n",
    "        return 0\n",
    "    return 1 + count_digits(n // 10)\n",
    "\n",
    "def power_sum(n, num_digits):\n",
    "    # Base case: If the number is 0, return 0 as there's nothing more to add\n",
    "    if n == 0:\n",
    "        return 0\n",
    "    # Calculate the last digit raised to the power of num_digits and add the result of the remaining digits\n",
    "    last_digit = n % 10\n",
    "    return (last_digit ** num_digits) + power_sum(n // 10, num_digits)\n",
    "\n",
    "def is_armstrong_number(n):\n",
    "    num_digits = count_digits(n)\n",
    "    sum_of_powers = power_sum(n, num_digits)\n",
    "    \n",
    "    if sum_of_powers == n:\n",
    "        print(\"Yes\")\n",
    "    else:\n",
    "        print(\"No\")\n",
    "\n",
    "# Example usage:\n",
    "is_armstrong_number(153)  # Output: Yes\n",
    "is_armstrong_number(134)  # Output: No\n"
   ]
  },
  {
   "cell_type": "code",
   "execution_count": null,
   "id": "dd814c8b",
   "metadata": {},
   "outputs": [],
   "source": []
  }
 ],
 "metadata": {
  "kernelspec": {
   "display_name": "Python 3 (ipykernel)",
   "language": "python",
   "name": "python3"
  },
  "language_info": {
   "codemirror_mode": {
    "name": "ipython",
    "version": 3
   },
   "file_extension": ".py",
   "mimetype": "text/x-python",
   "name": "python",
   "nbconvert_exporter": "python",
   "pygments_lexer": "ipython3",
   "version": "3.9.12"
  }
 },
 "nbformat": 4,
 "nbformat_minor": 5
}
